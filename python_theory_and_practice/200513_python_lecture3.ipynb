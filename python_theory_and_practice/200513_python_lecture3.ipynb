{
 "cells": [
  {
   "cell_type": "markdown",
   "metadata": {},
   "source": [
    "# 예제 - 가계부2"
   ]
  },
  {
   "cell_type": "code",
   "execution_count": 1,
   "metadata": {},
   "outputs": [
    {
     "name": "stdout",
     "output_type": "stream",
     "text": [
      "현재 잔액은 1000000원입니다.\n",
      "원하는 작업을 선택하세요(지출:1 ,수입:2, 내역보기:3, 종료:q)1\n",
      "내역을 입력하세요: 놋북\n",
      "금액을 입력하세요: 10000\n",
      "\n",
      "현재 잔액은 990000원입니다.\n",
      "원하는 작업을 선택하세요(지출:1 ,수입:2, 내역보기:3, 종료:q)q\n",
      "총 잔액은 990000원입니다.\n"
     ]
    }
   ],
   "source": [
    "cur_money=1000000\n",
    "\n",
    "income_title=[]\n",
    "income_money=[]\n",
    "output_title=[]\n",
    "output_money=[]\n",
    "\n",
    "while True:\n",
    "    print(\"현재 잔액은 {}원입니다.\".format(cur_money))\n",
    "    user=input(\"원하는 작업을 선택하세요(지출:1 ,수입:2, 내역보기:3, 종료:q)\")\n",
    "    if user=='q':\n",
    "        break\n",
    "    elif user=='1':\n",
    "        title = input(\"내역을 입력하세요: \")\n",
    "        money = int(input(\"금액을 입력하세요: \"))\n",
    "        output_title.append(title)\n",
    "        output_money.append(money)       \n",
    "        cur_money -= money\n",
    "    elif user=='2':\n",
    "        title = input(\"내역을 입력하세요: \")\n",
    "        money = int(input(\"금액을 입력하세요: \"))\n",
    "        income_title.append(title)\n",
    "        income_money.append(money)  \n",
    "        cur_money += money\n",
    "    elif user=='3':\n",
    "        for i in range(len(income_title)):\n",
    "            print(\"[수입] {} {}원\".format(income_title[i], income_money[i]))\n",
    "        for i in range(len(output_title)):\n",
    "            print(\"[지출] {} {}원\".format(output_title[i], output_money[i]))\n",
    "    print()\n",
    "    \n",
    "    \n",
    "print(\"총 잔액은 {}원입니다.\".format(cur_money))\n"
   ]
  },
  {
   "cell_type": "markdown",
   "metadata": {},
   "source": [
    "# 예제 - set"
   ]
  },
  {
   "cell_type": "code",
   "execution_count": 2,
   "metadata": {},
   "outputs": [
    {
     "name": "stdout",
     "output_type": "stream",
     "text": [
      "{3, 4, 6, 8, 9, 12, 15, 16, 18, 20, 21, 24, 27, 28, 30} {24, 12} {3, 6, 9, 15, 18, 21, 27, 30}\n"
     ]
    }
   ],
   "source": [
    "three = {i  for i in range(1,31) if i%3==0}\n",
    "four = {i  for i in range(1,31) if i%4==0}\n",
    "u = three | four\n",
    "i = three & four\n",
    "d = three - four\n",
    "print(u,i,d)"
   ]
  },
  {
   "cell_type": "markdown",
   "metadata": {},
   "source": [
    "# 예제 - 함수1"
   ]
  },
  {
   "cell_type": "code",
   "execution_count": 3,
   "metadata": {},
   "outputs": [
    {
     "name": "stdout",
     "output_type": "stream",
     "text": [
      "7\n"
     ]
    }
   ],
   "source": [
    "def max2(val1,val2):\n",
    "    a=max(val1,val2)\n",
    "    return a\n",
    "\n",
    "c=max2(5,7)\n",
    "print(c)"
   ]
  },
  {
   "cell_type": "code",
   "execution_count": 4,
   "metadata": {},
   "outputs": [
    {
     "name": "stdout",
     "output_type": "stream",
     "text": [
      "1 4 6 7 8\n"
     ]
    }
   ],
   "source": [
    "def insert_sorted(li,va):\n",
    "    s=li.append(va)\n",
    "    s=li.sort()\n",
    "    return s\n",
    "\n",
    "a=[1,4,6,8]\n",
    "insert_sorted(a, 7)\n",
    "print(*a)"
   ]
  },
  {
   "cell_type": "code",
   "execution_count": 7,
   "metadata": {},
   "outputs": [
    {
     "name": "stdout",
     "output_type": "stream",
     "text": [
      "362880\n"
     ]
    }
   ],
   "source": [
    "def fac(val):\n",
    "    s=1\n",
    "    for i in range(1,val+1):\n",
    "       s*=i\n",
    "    return s\n",
    "\n",
    "print(fac(9))"
   ]
  },
  {
   "cell_type": "markdown",
   "metadata": {},
   "source": [
    "# 예제 - 함수2"
   ]
  },
  {
   "cell_type": "code",
   "execution_count": 13,
   "metadata": {},
   "outputs": [
    {
     "name": "stdout",
     "output_type": "stream",
     "text": [
      "7\n"
     ]
    }
   ],
   "source": [
    "def max(*vt):\n",
    "    ret=vt[0]\n",
    "    for j in vt:\n",
    "        if j>ret:\n",
    "            ret=j\n",
    "    return ret\n",
    "\n",
    "d=max(1,3,2,4,6,7,2,2,4,0)\n",
    "print(d)"
   ]
  },
  {
   "cell_type": "code",
   "execution_count": 18,
   "metadata": {},
   "outputs": [
    {
     "name": "stdout",
     "output_type": "stream",
     "text": [
      "1 4 6 8\n",
      "1 4 6 7 8\n",
      "False\n",
      "False\n"
     ]
    }
   ],
   "source": [
    "import copy\n",
    "\n",
    "def new_insert_sorted(li,val):\n",
    "    newli=copy.copy(li)\n",
    "    newli.append(val)\n",
    "    newli.sort()\n",
    "    return newli\n",
    "\n",
    "a=[1,4,6,8]\n",
    "b=new_insert_sorted(a,7)\n",
    "print(*a)\n",
    "print(*b)\n",
    "print(a is b)\n",
    "print(a == b)"
   ]
  },
  {
   "cell_type": "code",
   "execution_count": 20,
   "metadata": {},
   "outputs": [
    {
     "name": "stdout",
     "output_type": "stream",
     "text": [
      "1 4 6 8\n",
      "1 4 6 7 8\n",
      "False\n",
      "False\n"
     ]
    }
   ],
   "source": [
    "# 다른 풀이\n",
    "def new_insert_sorted(li,val):\n",
    "    newli=list(li)    #<-여기가 바뀜\n",
    "    newli.append(val)\n",
    "    newli.sort()\n",
    "    return newli\n",
    "\n",
    "a=[1,4,6,8]\n",
    "b=new_insert_sorted(a,7)\n",
    "print(*a)\n",
    "print(*b)\n",
    "print(a is b)\n",
    "print(a == b)"
   ]
  },
  {
   "cell_type": "code",
   "execution_count": 21,
   "metadata": {},
   "outputs": [
    {
     "name": "stdout",
     "output_type": "stream",
     "text": [
      "True\n"
     ]
    }
   ],
   "source": [
    "v=2927\n",
    "\n",
    "is_prime = True\n",
    "for a in range(2,v):\n",
    "    if v%a==0:\n",
    "        is_prime = False\n",
    "        break\n",
    "print(is_prime)"
   ]
  },
  {
   "cell_type": "code",
   "execution_count": 28,
   "metadata": {},
   "outputs": [],
   "source": [
    "def is_prime(v):\n",
    "    flag=True\n",
    "    if v<2:\n",
    "        return False\n",
    "    for a in range(2,v):\n",
    "        if v%a==0:\n",
    "            flag = False\n",
    "            break\n",
    "    return flag"
   ]
  },
  {
   "cell_type": "code",
   "execution_count": 29,
   "metadata": {},
   "outputs": [
    {
     "data": {
      "text/plain": [
       "True"
      ]
     },
     "execution_count": 29,
     "metadata": {},
     "output_type": "execute_result"
    }
   ],
   "source": [
    "is_prime(47)"
   ]
  },
  {
   "cell_type": "code",
   "execution_count": 30,
   "metadata": {},
   "outputs": [
    {
     "name": "stdout",
     "output_type": "stream",
     "text": [
      "[2, 3, 5, 7, 11, 13, 17, 19, 23, 29, 31, 37, 41, 43, 47, 53, 59, 61, 67, 71, 73, 79, 83, 89, 97]\n"
     ]
    }
   ],
   "source": [
    "prime_list=[i for i in range(100) if is_prime(i)]\n",
    "print(prime_list)"
   ]
  },
  {
   "cell_type": "markdown",
   "metadata": {},
   "source": [
    "# 재귀함수"
   ]
  },
  {
   "cell_type": "code",
   "execution_count": 31,
   "metadata": {},
   "outputs": [
    {
     "name": "stdout",
     "output_type": "stream",
     "text": [
      "24\n"
     ]
    }
   ],
   "source": [
    "def fact(n):\n",
    "    ret=1\n",
    "    for a in range(1,n+1):\n",
    "        ret*=a\n",
    "    return ret\n",
    "\n",
    "print(fact(4))"
   ]
  },
  {
   "cell_type": "code",
   "execution_count": 32,
   "metadata": {},
   "outputs": [
    {
     "name": "stdout",
     "output_type": "stream",
     "text": [
      "24\n"
     ]
    }
   ],
   "source": [
    "def fact_rec(n):\n",
    "    if n<2:\n",
    "        return 1\n",
    "    else:\n",
    "        return n*fact_rec(n-1)\n",
    "print(fact_rec(4))"
   ]
  }
 ],
 "metadata": {
  "kernelspec": {
   "display_name": "Python 3",
   "language": "python",
   "name": "python3"
  },
  "language_info": {
   "codemirror_mode": {
    "name": "ipython",
    "version": 3
   },
   "file_extension": ".py",
   "mimetype": "text/x-python",
   "name": "python",
   "nbconvert_exporter": "python",
   "pygments_lexer": "ipython3",
   "version": "3.7.6"
  }
 },
 "nbformat": 4,
 "nbformat_minor": 4
}
