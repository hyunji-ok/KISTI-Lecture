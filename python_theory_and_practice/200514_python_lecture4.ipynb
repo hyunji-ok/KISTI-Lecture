{
 "cells": [
  {
   "cell_type": "markdown",
   "metadata": {},
   "source": [
    "# 예제 - 함수1"
   ]
  },
  {
   "cell_type": "code",
   "execution_count": 1,
   "metadata": {},
   "outputs": [
    {
     "name": "stdout",
     "output_type": "stream",
     "text": [
      "{'철수': 499006, '영희': 99116}\n",
      "598122\n"
     ]
    }
   ],
   "source": [
    "person = {} #dict()\n",
    "total_balance = 0\n",
    "\n",
    "def deposit(name, money):\n",
    "    global person\n",
    "    global total_balance  \n",
    "    if person.get(name)==None:\n",
    "        person[name]=money\n",
    "    else:\n",
    "        person[name]+=money\n",
    "    total_balance+=money\n",
    "    \n",
    "def withdraw(name,money):\n",
    "    global person\n",
    "    global total_balance  \n",
    "    if person.get(name)==None:\n",
    "        return\n",
    "    else:\n",
    "        person[name]-=money\n",
    "        total_balance-=money\n",
    "\n",
    "deposit(\"철수\",500000)\n",
    "deposit(\"영희\",100000)\n",
    "withdraw(\"철수\",994)\n",
    "withdraw(\"영희\",884)\n",
    "print(person)\n",
    "print(total_balance)"
   ]
  },
  {
   "cell_type": "markdown",
   "metadata": {},
   "source": [
    "# 예제 - 함수2"
   ]
  },
  {
   "cell_type": "code",
   "execution_count": 2,
   "metadata": {},
   "outputs": [
    {
     "name": "stdout",
     "output_type": "stream",
     "text": [
      "[4, 70, 46, 63, 49, 19, 33, 65, 21, 76, 75, 28, 1, 15, 87, 28, 30, 31, 87, 12, 90, 80, 30, 82, 94, 72, 45, 21, 95, 72, 98, 47, 32, 92, 94, 15, 98, 78, 24, 50, 33, 72, 51, 88, 5, 75, 29, 54, 55, 42, 71, 85, 20, 56, 2, 96, 2, 13, 62, 79, 82, 89, 78, 69, 75, 26, 12, 46, 36, 86, 50, 70, 100, 79, 89, 38, 62, 61, 83, 1, 22, 39, 89, 89, 5, 71, 38, 78, 33, 25, 5, 46, 77, 50, 8, 7, 94, 43, 43, 48]\n"
     ]
    }
   ],
   "source": [
    "import random\n",
    "ranlist = [random.randint(1,101) for _ in range(100)]\n",
    "print(ranlist)"
   ]
  },
  {
   "cell_type": "code",
   "execution_count": 3,
   "metadata": {},
   "outputs": [
    {
     "name": "stdout",
     "output_type": "stream",
     "text": [
      "[(4, False), (70, False), (46, False), (63, False), (49, False), (19, True), (33, False), (65, False), (21, False), (76, False), (75, False), (28, False), (1, False), (15, False), (87, False), (28, False), (30, False), (31, True), (87, False), (12, False), (90, False), (80, False), (30, False), (82, False), (94, False), (72, False), (45, False), (21, False), (95, False), (72, False), (98, False), (47, True), (32, False), (92, False), (94, False), (15, False), (98, False), (78, False), (24, False), (50, False), (33, False), (72, False), (51, False), (88, False), (5, True), (75, False), (29, True), (54, False), (55, False), (42, False), (71, True), (85, False), (20, False), (56, False), (2, True), (96, False), (2, True), (13, True), (62, False), (79, True), (82, False), (89, True), (78, False), (69, False), (75, False), (26, False), (12, False), (46, False), (36, False), (86, False), (50, False), (70, False), (100, False), (79, True), (89, True), (38, False), (62, False), (61, True), (83, True), (1, False), (22, False), (39, False), (89, True), (89, True), (5, True), (71, True), (38, False), (78, False), (33, False), (25, False), (5, True), (46, False), (77, False), (50, False), (8, False), (7, True), (94, False), (43, True), (43, True), (48, False)]\n"
     ]
    }
   ],
   "source": [
    "def is_prime(v):\n",
    "    flag=True\n",
    "    if v<2:\n",
    "        return False\n",
    "    for a in range(2,v):\n",
    "        if v%a==0:\n",
    "            flag = False\n",
    "            break\n",
    "    return flag\n",
    "\n",
    "reslist=[(i,is_prime(i)) for i in ranlist]\n",
    "print(reslist)"
   ]
  },
  {
   "cell_type": "markdown",
   "metadata": {},
   "source": [
    "# 예제 - 클래스 생성1"
   ]
  },
  {
   "cell_type": "code",
   "execution_count": 4,
   "metadata": {},
   "outputs": [
    {
     "name": "stdout",
     "output_type": "stream",
     "text": [
      "<class '__main__.Member'>\n",
      "홍길동 010-7777-7777\n"
     ]
    }
   ],
   "source": [
    "class Member:\n",
    "    def set(self,name,num):\n",
    "        self.name=name\n",
    "        self.num=num\n",
    "    def get_name(self):\n",
    "        return self.name\n",
    "    def get_num(self):\n",
    "        return self.num\n",
    "m = Member()\n",
    "m.set(\"홍길동\",\"010-7777-7777\")\n",
    "print(type(m))\n",
    "print(m.get_name(),m.get_num())"
   ]
  },
  {
   "cell_type": "code",
   "execution_count": 7,
   "metadata": {},
   "outputs": [
    {
     "name": "stdout",
     "output_type": "stream",
     "text": [
      "AAA님의 현재 잔액은 1002000원 입니다.\n",
      "BBB님의 현재 잔액은 1000원 입니다.\n",
      "1003000\n"
     ]
    }
   ],
   "source": [
    "class BankAccount:\n",
    "    totalBalance=0\n",
    "    def __init__(self,name, balance):\n",
    "        self.name=name\n",
    "        self.balance=balance\n",
    "        BankAccount.totalBalance+=balance\n",
    "    def deposit(self,money):\n",
    "        self.balance+=money\n",
    "        BankAccount.totalBalance+=money\n",
    "    def withdraw(self,money):\n",
    "        self.balance-=money\n",
    "        BankAccount.totalBalance-=money\n",
    "    def __str__(self):\n",
    "        return \"{}님의 현재 잔액은 {}원 입니다.\".format(self.name, self.balance)\n",
    "\n",
    "plist= [BankAccount(\"AAA\",2000),BankAccount(\"BBB\",2000)]\n",
    "plist[0].deposit(1000000)\n",
    "plist[1].withdraw(1000)\n",
    "for j in plist:\n",
    "    print(j)\n",
    "print(BankAccount.totalBalance)"
   ]
  },
  {
   "cell_type": "code",
   "execution_count": 9,
   "metadata": {},
   "outputs": [
    {
     "name": "stdout",
     "output_type": "stream",
     "text": [
      "19.209372712298546\n"
     ]
    }
   ],
   "source": [
    "import math\n",
    "class Complex:\n",
    "    def __init__(self, re, im):\n",
    "        self.re=re\n",
    "        self.im=im\n",
    "    def __str__(self):\n",
    "        return \"{} + {}i\".format(self.re, self.im)\n",
    "    def __add__(self, opp):\n",
    "        return Complex(self.re+opp.re, self.im+opp.im)\n",
    "    def abs(self):\n",
    "        return math.sqrt(self.re**2+self.im**2)\n",
    "        \n",
    "c = Complex(5,6)\n",
    "c2 = Complex(7,9)\n",
    "print((c+c2).abs())"
   ]
  },
  {
   "cell_type": "code",
   "execution_count": null,
   "metadata": {},
   "outputs": [],
   "source": []
  }
 ],
 "metadata": {
  "kernelspec": {
   "display_name": "Python 3",
   "language": "python",
   "name": "python3"
  },
  "language_info": {
   "codemirror_mode": {
    "name": "ipython",
    "version": 3
   },
   "file_extension": ".py",
   "mimetype": "text/x-python",
   "name": "python",
   "nbconvert_exporter": "python",
   "pygments_lexer": "ipython3",
   "version": "3.7.6"
  }
 },
 "nbformat": 4,
 "nbformat_minor": 4
}
