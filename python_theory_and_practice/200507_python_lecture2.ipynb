{
 "cells": [
  {
   "cell_type": "markdown",
   "metadata": {},
   "source": [
    "# 예제 - 가위바위보2"
   ]
  },
  {
   "cell_type": "code",
   "execution_count": 6,
   "metadata": {},
   "outputs": [
    {
     "name": "stdout",
     "output_type": "stream",
     "text": [
      "선택하세요(가위:1, 바위:2, 보:3) :1\n",
      "당신이 가위, 컴퓨터는 보\n",
      "당신이 이겼습니다\n"
     ]
    }
   ],
   "source": [
    "import random\n",
    "\n",
    "a = int(input(\"선택하세요(가위:1, 바위:2, 보:3) :\"))\n",
    "b = random.randint(1,3)\n",
    "if a==b:\n",
    "    print(\"비겼습니다\")\n",
    "elif a==1 and b==3:\n",
    "    print(\"당신이 가위, 컴퓨터는 보\")\n",
    "    print(\"당신이 이겼습니다\")\n",
    "elif a==2 and b==1:\n",
    "    print(\"당신이 바위, 컴퓨터는 가위\")\n",
    "    print(\"당신이 이겼습니다\")\n",
    "elif a==3 and b==2:\n",
    "    print(\"당신이 바위, 컴퓨터는 가위\")\n",
    "    print(\"당신이 이겼습니다\")\n",
    "elif a==1 and b==2:\n",
    "    print(\"당신이 졌습니다\")\n",
    "elif a==2 and b==3:\n",
    "    print(\"당신이 졌습니다\")\n",
    "elif a==3 and b==1:\n",
    "    print(\"당신이 졌습니다\")"
   ]
  },
  {
   "cell_type": "markdown",
   "metadata": {},
   "source": [
    "# 예제 - if문3"
   ]
  },
  {
   "cell_type": "code",
   "execution_count": 15,
   "metadata": {},
   "outputs": [
    {
     "name": "stdout",
     "output_type": "stream",
     "text": [
      "년도를 입력하세요: 5\n",
      "5년은 평년입니다.\n"
     ]
    }
   ],
   "source": [
    "year = int(input(\"년도를 입력하세요: \"))\n",
    "if year%400==0:\n",
    "    print(\"{}년은 윤년입니다.\".format(year))\n",
    "elif year%100==0:\n",
    "    print(\"{}년은 평년입니다.\".format(year))\n",
    "elif year%4==0:\n",
    "    print(\"{}년은 윤년입니다.\".format(year))\n",
    "else:\n",
    "    print(\"{}년은 평년입니다.\".format(year))"
   ]
  },
  {
   "cell_type": "markdown",
   "metadata": {},
   "source": [
    "# 예제 - if문4"
   ]
  },
  {
   "cell_type": "code",
   "execution_count": 19,
   "metadata": {},
   "outputs": [
    {
     "name": "stdout",
     "output_type": "stream",
     "text": [
      "숫자를 입력하세요 :100\n",
      "100는 합성수입니다\n"
     ]
    }
   ],
   "source": [
    "#my think\n",
    "a = int(input(\"숫자를 입력하세요 :\"))\n",
    "b = 0\n",
    "for i in range(2,a):\n",
    "    if a%i==0:\n",
    "        b=b+1\n",
    "        \n",
    "if b>0:\n",
    "    print(\"{}는 합성수입니다\".format(a))\n",
    "else:\n",
    "    print(\"{}는 소수입니다.\".format(a))\n",
    "        "
   ]
  },
  {
   "cell_type": "code",
   "execution_count": 23,
   "metadata": {},
   "outputs": [
    {
     "name": "stdout",
     "output_type": "stream",
     "text": [
      "정수를 입력하세요 :78237\n",
      "78237는 소수가 아닙니다,\n"
     ]
    }
   ],
   "source": [
    "#solution\n",
    "num = int(input(\"정수를 입력하세요 :\"))\n",
    "\n",
    "is_prime = True\n",
    "for j in range(2,num):\n",
    "    if num%j==0:\n",
    "        is_prime = False\n",
    "        break\n",
    "        \n",
    "if is_prime:\n",
    "    print(\"{}는 소수입니다.\".format(num))\n",
    "else:\n",
    "    print(\"{}는 소수가 아닙니다,\".format(num))"
   ]
  },
  {
   "cell_type": "markdown",
   "metadata": {},
   "source": [
    "# 예제 - 가위바위보3"
   ]
  },
  {
   "cell_type": "code",
   "execution_count": 29,
   "metadata": {},
   "outputs": [
    {
     "name": "stdout",
     "output_type": "stream",
     "text": [
      "선택하세요(가위:1, 바위:2, 보:3, 종료:q) :1\n",
      "당신이 졌습니다\n",
      "선택하세요(가위:1, 바위:2, 보:3, 종료:q) :2\n",
      "당신이 이겼습니다\n",
      "선택하세요(가위:1, 바위:2, 보:3, 종료:q) :3\n",
      "당신이 졌습니다\n",
      "선택하세요(가위:1, 바위:2, 보:3, 종료:q) :q\n",
      "최종 스코어는 1:2 입니다\n"
     ]
    }
   ],
   "source": [
    "import random\n",
    "\n",
    "you = 0\n",
    "com = 0\n",
    "while True:\n",
    "    c = input(\"선택하세요(가위:1, 바위:2, 보:3, 종료:q) :\")\n",
    "    if c==\"q\":\n",
    "        break\n",
    "    a = int(c)\n",
    "    b = random.randint(1,3)\n",
    "    if a==b:\n",
    "        print(\"비겼습니다\")\n",
    "    elif (a==1 and b==3) or (a==2 and b==1) or (a==3 and b==2):\n",
    "        print(\"당신이 이겼습니다\")\n",
    "        you = you + 1\n",
    "    elif (a==1 and b==2) or (a==2 and b==3) or (a==3 and b==1):\n",
    "        print(\"당신이 졌습니다\")\n",
    "        com = com + 1\n",
    "print(\"최종 스코어는 {}:{} 입니다\".format(you,com))\n"
   ]
  },
  {
   "cell_type": "markdown",
   "metadata": {},
   "source": [
    "# 예제 - while문1"
   ]
  },
  {
   "cell_type": "code",
   "execution_count": 39,
   "metadata": {},
   "outputs": [
    {
     "name": "stdout",
     "output_type": "stream",
     "text": [
      "0\n",
      "10\n",
      "20\n",
      "30\n",
      "40\n",
      "50\n",
      "60\n",
      "70\n",
      "80\n",
      "90\n"
     ]
    }
   ],
   "source": [
    "a = 10\n",
    "b = 0\n",
    "while b<10:\n",
    "    print(b*a)\n",
    "    b += 1"
   ]
  },
  {
   "cell_type": "code",
   "execution_count": 36,
   "metadata": {},
   "outputs": [
    {
     "name": "stdout",
     "output_type": "stream",
     "text": [
      "32\n",
      "16\n",
      "8\n",
      "4\n",
      "2\n",
      "1\n"
     ]
    }
   ],
   "source": [
    "a=2\n",
    "b=1\n",
    "while b<7:\n",
    "    print(a**(6-b))\n",
    "    b=b+1"
   ]
  },
  {
   "cell_type": "code",
   "execution_count": 40,
   "metadata": {},
   "outputs": [
    {
     "name": "stdout",
     "output_type": "stream",
     "text": [
      "32\n",
      "16\n",
      "8\n",
      "4\n",
      "2\n",
      "1\n"
     ]
    }
   ],
   "source": [
    "num = 32\n",
    "while num>0:\n",
    "    print(num)\n",
    "    num //= 2"
   ]
  },
  {
   "cell_type": "markdown",
   "metadata": {},
   "source": [
    "# "
   ]
  },
  {
   "cell_type": "code",
   "execution_count": null,
   "metadata": {},
   "outputs": [],
   "source": [
    "\n",
    "while True:\n",
    "    if a == q:\n",
    "        break\n",
    "    print(\"현재 잔액은 {}입니다.\".format())\n",
    "    a = input(\"원하는 작업을 선택하세요(지출:1, 수입:2, 내역보기:3, 종료:q) :\")\n",
    "    b = input(\"금액을 입력하세요 :\")"
   ]
  },
  {
   "cell_type": "markdown",
   "metadata": {},
   "source": [
    "# list"
   ]
  },
  {
   "cell_type": "code",
   "execution_count": 44,
   "metadata": {},
   "outputs": [
    {
     "name": "stdout",
     "output_type": "stream",
     "text": [
      "<class 'list'>\n"
     ]
    }
   ],
   "source": [
    "b = 5\n",
    "a = [1,2,4]\n",
    "print(type(a))"
   ]
  },
  {
   "cell_type": "code",
   "execution_count": 45,
   "metadata": {},
   "outputs": [
    {
     "name": "stdout",
     "output_type": "stream",
     "text": [
      "[1, 7, 4]\n",
      "1 7 4\n",
      "4\n"
     ]
    }
   ],
   "source": [
    "a[1]=7\n",
    "print(a)\n",
    "print(*a)\n",
    "print(a[2])"
   ]
  },
  {
   "cell_type": "code",
   "execution_count": 46,
   "metadata": {},
   "outputs": [
    {
     "name": "stdout",
     "output_type": "stream",
     "text": [
      "[1, 7, 4, 5]\n"
     ]
    }
   ],
   "source": [
    "a.append(b)\n",
    "print(a)"
   ]
  },
  {
   "cell_type": "code",
   "execution_count": 47,
   "metadata": {},
   "outputs": [
    {
     "name": "stdout",
     "output_type": "stream",
     "text": [
      "[1, 5, 7, 4, 5]\n"
     ]
    }
   ],
   "source": [
    "a.insert(1,b) #1번째 위치에 b를 추가해라! 대체되는 것이 아니다.\n",
    "print(a)"
   ]
  },
  {
   "cell_type": "code",
   "execution_count": 48,
   "metadata": {},
   "outputs": [
    {
     "name": "stdout",
     "output_type": "stream",
     "text": [
      "[1, 5, 4, 5]\n"
     ]
    }
   ],
   "source": [
    "del a[2]\n",
    "print(a)"
   ]
  },
  {
   "cell_type": "code",
   "execution_count": 68,
   "metadata": {},
   "outputs": [
    {
     "name": "stdout",
     "output_type": "stream",
     "text": [
      "[2, 4, 6, 8, 10, 12, 14, 16, 18, 20, 22, 24, 26, 28, 30]\n"
     ]
    }
   ],
   "source": [
    "a=[]\n",
    "for i in range(1,31):\n",
    "    if i%2==0:\n",
    "        a.append(i)\n",
    "print(a)"
   ]
  },
  {
   "cell_type": "code",
   "execution_count": 69,
   "metadata": {},
   "outputs": [
    {
     "name": "stdout",
     "output_type": "stream",
     "text": [
      "[2, 4, 6, 8, 10, 12, 14, 16, 18, 20, 22, 24, 26, 28, 30]\n"
     ]
    }
   ],
   "source": [
    "#추가 풀이\n",
    "a=[]\n",
    "for i in range(2,31,2):\n",
    "    a.append(i)\n",
    "print(a)"
   ]
  },
  {
   "cell_type": "code",
   "execution_count": 70,
   "metadata": {},
   "outputs": [
    {
     "name": "stdout",
     "output_type": "stream",
     "text": [
      "[8, 10, 12, 14, 16, 18, 20, 22, 24, 26, 28, 30]\n"
     ]
    }
   ],
   "source": [
    "for _ in range(0,3): #안쓰는 변수는 관례적으로 _를 많이 씀\n",
    "    del a[0]\n",
    "print(a)"
   ]
  },
  {
   "cell_type": "code",
   "execution_count": 71,
   "metadata": {},
   "outputs": [
    {
     "name": "stdout",
     "output_type": "stream",
     "text": [
      "[14, 16, 18, 20, 22, 24, 26, 28, 30]\n"
     ]
    }
   ],
   "source": [
    "#추가 풀이\n",
    "del a[:3]\n",
    "print(a)"
   ]
  },
  {
   "cell_type": "code",
   "execution_count": 72,
   "metadata": {},
   "outputs": [],
   "source": [
    "#리스트 만들기\n",
    "li = list()\n",
    "a = []"
   ]
  },
  {
   "cell_type": "code",
   "execution_count": 74,
   "metadata": {},
   "outputs": [
    {
     "name": "stdout",
     "output_type": "stream",
     "text": [
      "[2, 4, 6, 8, 10, 12, 14, 16, 18, 20, 22, 24, 26, 28, 30]\n",
      "[10, 12, 14, 16, 18]\n"
     ]
    }
   ],
   "source": [
    "li = list()\n",
    "for i in range(2,31,2):\n",
    "    li.append(i)\n",
    "print(li)\n",
    "\n",
    "li2 = li[4:9]\n",
    "print(li2)"
   ]
  },
  {
   "cell_type": "code",
   "execution_count": 75,
   "metadata": {},
   "outputs": [
    {
     "name": "stdout",
     "output_type": "stream",
     "text": [
      "[2, 4, 6, 8, 10, 12, 14, 16, 18, 20, 22, 24, 26, 28, 30]\n",
      "15\n"
     ]
    }
   ],
   "source": [
    "li = list()\n",
    "for i in range(2,31,2):\n",
    "    li.append(i)\n",
    "print(li)\n",
    "\n",
    "a=len(li)\n",
    "print(a)"
   ]
  },
  {
   "cell_type": "code",
   "execution_count": 76,
   "metadata": {},
   "outputs": [
    {
     "name": "stdout",
     "output_type": "stream",
     "text": [
      "[4, 5, 6, 9, 8, 7]\n"
     ]
    }
   ],
   "source": [
    "a = [4,5,6]\n",
    "b = [9,8,7]\n",
    "c = a+b\n",
    "print(c)"
   ]
  },
  {
   "cell_type": "code",
   "execution_count": 77,
   "metadata": {},
   "outputs": [
    {
     "name": "stdout",
     "output_type": "stream",
     "text": [
      "[4, 5, 4, 5, 4, 5, 4, 5, 4, 5]\n"
     ]
    }
   ],
   "source": [
    "a = [4,5]\n",
    "c = a*5\n",
    "print(c)"
   ]
  },
  {
   "cell_type": "code",
   "execution_count": 78,
   "metadata": {},
   "outputs": [
    {
     "name": "stdout",
     "output_type": "stream",
     "text": [
      "[2, 4, 6, 8, 10, 12, 14, 16, 18, 20, 22, 24, 26, 28, 30]\n",
      "26\n"
     ]
    }
   ],
   "source": [
    "li = list()\n",
    "for i in range(2,31,2):\n",
    "    li.append(i)\n",
    "print(li)\n",
    "\n",
    "print(li[-3])"
   ]
  },
  {
   "cell_type": "code",
   "execution_count": 79,
   "metadata": {},
   "outputs": [
    {
     "name": "stdout",
     "output_type": "stream",
     "text": [
      "[2, 4, 6, 8, 10, 12, 14, 16, 18, 20, 22, 24, 26, 28, 30]\n"
     ]
    },
    {
     "data": {
      "text/plain": [
       "True"
      ]
     },
     "execution_count": 79,
     "metadata": {},
     "output_type": "execute_result"
    }
   ],
   "source": [
    "li = list()\n",
    "for i in range(2,31,2):\n",
    "    li.append(i)\n",
    "print(li)\n",
    "\n",
    "22 in li #li에 22가 있는가를 판단"
   ]
  },
  {
   "cell_type": "code",
   "execution_count": 80,
   "metadata": {},
   "outputs": [
    {
     "name": "stdout",
     "output_type": "stream",
     "text": [
      "4가 있습니다\n"
     ]
    }
   ],
   "source": [
    "if 4 in li:\n",
    "    print(\"4가 있습니다\")\n",
    "else:\n",
    "    print(\"4가 없습니다\")"
   ]
  },
  {
   "cell_type": "code",
   "execution_count": 81,
   "metadata": {},
   "outputs": [
    {
     "name": "stdout",
     "output_type": "stream",
     "text": [
      "4가 있습니다\n"
     ]
    }
   ],
   "source": [
    "if 4 not in li:\n",
    "    print(\"4가 없습니다\")\n",
    "else:\n",
    "    print(\"4가 있습니다\")"
   ]
  },
  {
   "cell_type": "code",
   "execution_count": 95,
   "metadata": {},
   "outputs": [
    {
     "name": "stdout",
     "output_type": "stream",
     "text": [
      "[52, 56, 60, 64, 68, 72, 76, 80, 84, 88, 92, 96, 100]\n"
     ]
    }
   ],
   "source": [
    "four=[]\n",
    "for i in range(52,101,4):\n",
    "    four.append(i)\n",
    "print(four)"
   ]
  },
  {
   "cell_type": "code",
   "execution_count": 96,
   "metadata": {},
   "outputs": [
    {
     "name": "stdout",
     "output_type": "stream",
     "text": [
      "[64, 68, 72, 76, 80, 84, 88]\n"
     ]
    }
   ],
   "source": [
    "print(four[3:-3])"
   ]
  },
  {
   "cell_type": "code",
   "execution_count": 97,
   "metadata": {},
   "outputs": [
    {
     "name": "stdout",
     "output_type": "stream",
     "text": [
      "[64, 68, 72, 76, 80, 84, 88]\n"
     ]
    }
   ],
   "source": [
    "del four[:3]\n",
    "del four[-3:]\n",
    "print(four)"
   ]
  },
  {
   "cell_type": "code",
   "execution_count": 98,
   "metadata": {},
   "outputs": [
    {
     "name": "stdout",
     "output_type": "stream",
     "text": [
      "88이 리스트에 있습니다.\n"
     ]
    }
   ],
   "source": [
    "if 88 in four:\n",
    "    print(\"88이 리스트에 있습니다.\")\n",
    "else:\n",
    "    print(\"88이 리스트에 없습니다.\")\n"
   ]
  },
  {
   "cell_type": "code",
   "execution_count": 101,
   "metadata": {},
   "outputs": [
    {
     "name": "stdout",
     "output_type": "stream",
     "text": [
      "8 5 10\n",
      "8 5\n"
     ]
    }
   ],
   "source": [
    "li = []\n",
    "li.append(8)\n",
    "li.append(5)\n",
    "li.append(10)\n",
    "print(*li)\n",
    "\n",
    "a=10\n",
    "if a in li:\n",
    "    li.remove(a)\n",
    "print(*li)"
   ]
  },
  {
   "cell_type": "code",
   "execution_count": 103,
   "metadata": {},
   "outputs": [
    {
     "name": "stdout",
     "output_type": "stream",
     "text": [
      "8 5 10\n",
      "9 6 3\n",
      "8 5 10 9 6 3\n"
     ]
    }
   ],
   "source": [
    "li = [8,5,10]\n",
    "print(*li)\n",
    "li2 = [9,6,3]\n",
    "print(*li2)\n",
    "li.extend(li2)\n",
    "print(*li)"
   ]
  },
  {
   "cell_type": "code",
   "execution_count": 104,
   "metadata": {},
   "outputs": [
    {
     "name": "stdout",
     "output_type": "stream",
     "text": [
      "8 5 10 9 6\n"
     ]
    }
   ],
   "source": [
    "li.pop()\n",
    "print(*li) #맨 뒤에 값 삭제"
   ]
  },
  {
   "cell_type": "code",
   "execution_count": 106,
   "metadata": {},
   "outputs": [
    {
     "data": {
      "text/plain": [
       "3"
      ]
     },
     "execution_count": 106,
     "metadata": {},
     "output_type": "execute_result"
    }
   ],
   "source": [
    "li = [8,5,10,10,349,10]\n",
    "li.count(10)"
   ]
  },
  {
   "cell_type": "code",
   "execution_count": 108,
   "metadata": {},
   "outputs": [
    {
     "name": "stdout",
     "output_type": "stream",
     "text": [
      "8 5 100 150 39 1\n",
      "1 5 8 39 100 150\n",
      "150 100 39 8 5 1\n"
     ]
    }
   ],
   "source": [
    "li = [8,5,100,150,39,1]\n",
    "print(*li)\n",
    "li.sort()\n",
    "print(*li)\n",
    "li.sort(reverse=True)\n",
    "print(*li)"
   ]
  },
  {
   "cell_type": "code",
   "execution_count": 109,
   "metadata": {},
   "outputs": [
    {
     "name": "stdout",
     "output_type": "stream",
     "text": [
      "16\n",
      "10\n",
      "200\n",
      "300\n",
      "78\n",
      "2\n"
     ]
    }
   ],
   "source": [
    "li = [8,5,100,150,39,1]\n",
    "for i in range(len(li)):\n",
    "    print(li[i]*2)"
   ]
  },
  {
   "cell_type": "code",
   "execution_count": 110,
   "metadata": {},
   "outputs": [
    {
     "name": "stdout",
     "output_type": "stream",
     "text": [
      "16\n",
      "10\n",
      "200\n",
      "300\n",
      "78\n",
      "2\n"
     ]
    }
   ],
   "source": [
    "li = [8,5,100,150,39,1]\n",
    "for v in li:\n",
    "    print(v*2)"
   ]
  },
  {
   "cell_type": "markdown",
   "metadata": {},
   "source": [
    "# 예제 - 리스트3"
   ]
  },
  {
   "cell_type": "code",
   "execution_count": 121,
   "metadata": {},
   "outputs": [
    {
     "name": "stdout",
     "output_type": "stream",
     "text": [
      "<class 'str'>\n",
      "<class 'int'>\n",
      "<class 'int'>\n",
      "<class 'float'>\n",
      "<class 'bool'>\n",
      "<class 'NoneType'>\n"
     ]
    }
   ],
   "source": [
    "list = ['Elem1', 10, 9, 11.1, True, None]\n",
    "for i in list:\n",
    "    print(type(i))"
   ]
  },
  {
   "cell_type": "code",
   "execution_count": 122,
   "metadata": {},
   "outputs": [
    {
     "name": "stdout",
     "output_type": "stream",
     "text": [
      "[53, 59, 61, 67, 71, 73, 79, 83, 89, 97]\n"
     ]
    }
   ],
   "source": [
    "prime = []\n",
    "for i in range(50,101):\n",
    "    \n",
    "    is_prime = True\n",
    "    for j in range(2,i):\n",
    "        if i%j==0:\n",
    "            is_prime = False\n",
    "            break\n",
    "                \n",
    "    if is_prime :\n",
    "        prime.append(i)\n",
    "        \n",
    "print(prime)"
   ]
  },
  {
   "cell_type": "code",
   "execution_count": 123,
   "metadata": {},
   "outputs": [
    {
     "name": "stdout",
     "output_type": "stream",
     "text": [
      "83\n",
      "89\n"
     ]
    }
   ],
   "source": [
    "for i in prime:\n",
    "    if i//10==8:\n",
    "        print(i)"
   ]
  },
  {
   "cell_type": "markdown",
   "metadata": {},
   "source": [
    "예제 - 리스트4"
   ]
  },
  {
   "cell_type": "code",
   "execution_count": 128,
   "metadata": {},
   "outputs": [
    {
     "name": "stdout",
     "output_type": "stream",
     "text": [
      "[41, 11, 75, 52, 86, 78, 91, 87, 3, 51, 88, 52, 66, 49, 36, 43, 17, 31, 72, 51, 29, 39, 34, 32, 78, 6, 56, 101, 73, 66]\n"
     ]
    }
   ],
   "source": [
    "import random\n",
    "\n",
    "ran = []\n",
    "for _ in range(30):\n",
    "    a = random.randint(1,101)\n",
    "    ran.append(a)\n",
    "print(ran)"
   ]
  },
  {
   "cell_type": "code",
   "execution_count": 131,
   "metadata": {},
   "outputs": [
    {
     "name": "stdout",
     "output_type": "stream",
     "text": [
      "[3, 6, 11, 17, 29, 31, 32, 34, 36, 39, 41, 43, 49, 51, 51, 52, 52, 56, 66, 66, 72, 73, 75, 78, 78, 86, 87, 88, 91, 101]\n",
      "101\n"
     ]
    }
   ],
   "source": [
    "ran.sort()\n",
    "print(ran)\n",
    "print(ran[-1])"
   ]
  },
  {
   "cell_type": "code",
   "execution_count": 132,
   "metadata": {},
   "outputs": [
    {
     "name": "stdout",
     "output_type": "stream",
     "text": [
      "101\n"
     ]
    }
   ],
   "source": [
    "#다른 풀이\n",
    "m = 0\n",
    "for v in ran:\n",
    "    if v>m:\n",
    "        m = v\n",
    "print(m)"
   ]
  },
  {
   "cell_type": "code",
   "execution_count": 133,
   "metadata": {},
   "outputs": [
    {
     "name": "stdout",
     "output_type": "stream",
     "text": [
      "101\n"
     ]
    }
   ],
   "source": [
    "#다른 풀이\n",
    "print(max(ran))"
   ]
  },
  {
   "cell_type": "markdown",
   "metadata": {},
   "source": [
    "# set"
   ]
  },
  {
   "cell_type": "code",
   "execution_count": 134,
   "metadata": {},
   "outputs": [
    {
     "name": "stdout",
     "output_type": "stream",
     "text": [
      "[1, 2, 3]\n"
     ]
    }
   ],
   "source": [
    "a = [1,2,3]\n",
    "print(a)"
   ]
  },
  {
   "cell_type": "code",
   "execution_count": 143,
   "metadata": {},
   "outputs": [
    {
     "name": "stdout",
     "output_type": "stream",
     "text": [
      "<class 'set'>\n",
      "{1, 2, 3, 5, 7}\n",
      "{1, 2, 3, 4, 5, 7}\n",
      "{4}\n"
     ]
    }
   ],
   "source": [
    "b = {1,2,3,4}\n",
    "print(type(b))\n",
    "c = {1,2,3,5,7,7,7,7}\n",
    "print(c)\n",
    "\n",
    "print(b.union(c)) #합집합\n",
    "print(b.difference(c)) #차집합\n",
    "\n",
    "#set은 인덱스로 접근 안된다."
   ]
  },
  {
   "cell_type": "markdown",
   "metadata": {},
   "source": [
    "# 튜플"
   ]
  },
  {
   "cell_type": "code",
   "execution_count": 146,
   "metadata": {},
   "outputs": [
    {
     "name": "stdout",
     "output_type": "stream",
     "text": [
      "<class 'tuple'>\n"
     ]
    }
   ],
   "source": [
    "b = (1,2)\n",
    "print(type(b))\n",
    "\n",
    "#튜플은 수정이 되지 않는다.\n",
    "#정수형, 실수형은 튜플과 같이, 바뀌는 것이 아니다. 덮어씌우는 것이다."
   ]
  },
  {
   "cell_type": "code",
   "execution_count": 147,
   "metadata": {},
   "outputs": [
    {
     "name": "stdout",
     "output_type": "stream",
     "text": [
      "4 120\n"
     ]
    }
   ],
   "source": [
    "a = 4\n",
    "b = 120\n",
    "print(a,b) #생략이 된 것이지 튜플이다."
   ]
  },
  {
   "cell_type": "code",
   "execution_count": 148,
   "metadata": {},
   "outputs": [
    {
     "name": "stdout",
     "output_type": "stream",
     "text": [
      "4 120\n"
     ]
    }
   ],
   "source": [
    "a,b = 4,120\n",
    "print(a,b) #위와 같은 코드이다."
   ]
  },
  {
   "cell_type": "code",
   "execution_count": 149,
   "metadata": {},
   "outputs": [
    {
     "name": "stdout",
     "output_type": "stream",
     "text": [
      "<class 'list'> <class 'dict'>\n"
     ]
    }
   ],
   "source": [
    "b = []\n",
    "c = {}\n",
    "print(type(b),type(c))"
   ]
  },
  {
   "cell_type": "code",
   "execution_count": 151,
   "metadata": {},
   "outputs": [
    {
     "name": "stdout",
     "output_type": "stream",
     "text": [
      "<class 'tuple'>\n",
      "<class 'int'>\n",
      "<class 'tuple'>\n"
     ]
    }
   ],
   "source": [
    "a = () #이건 튜플\n",
    "print(type(a))\n",
    "\n",
    "b = (1) #이건 int\n",
    "print(type(b))\n",
    "\n",
    "#따라서 1개짜리 튜플을 쓰려면 ,를 쓴다\n",
    "t=(1,)\n",
    "print(type(t))"
   ]
  },
  {
   "cell_type": "markdown",
   "metadata": {},
   "source": [
    "#  새로운 함수"
   ]
  },
  {
   "cell_type": "code",
   "execution_count": 152,
   "metadata": {},
   "outputs": [
    {
     "name": "stdout",
     "output_type": "stream",
     "text": [
      "2\n"
     ]
    }
   ],
   "source": [
    "import random\n",
    "v = random.choice([1,2,3])\n",
    "print(v)"
   ]
  },
  {
   "cell_type": "code",
   "execution_count": 6,
   "metadata": {},
   "outputs": [
    {
     "ename": "KeyboardInterrupt",
     "evalue": "",
     "output_type": "error",
     "traceback": [
      "\u001b[1;31m---------------------------------------------------------------------------\u001b[0m",
      "\u001b[1;31mKeyboardInterrupt\u001b[0m                         Traceback (most recent call last)",
      "\u001b[1;32m<ipython-input-6-3a87831a9431>\u001b[0m in \u001b[0;36m<module>\u001b[1;34m\u001b[0m\n\u001b[0;32m      3\u001b[0m \u001b[0mpool\u001b[0m \u001b[1;33m=\u001b[0m \u001b[0mlist\u001b[0m\u001b[1;33m(\u001b[0m\u001b[0mrange\u001b[0m\u001b[1;33m(\u001b[0m\u001b[1;36m1\u001b[0m\u001b[1;33m,\u001b[0m \u001b[1;36m46\u001b[0m\u001b[1;33m)\u001b[0m\u001b[1;33m)\u001b[0m\u001b[1;33m\u001b[0m\u001b[1;33m\u001b[0m\u001b[0m\n\u001b[0;32m      4\u001b[0m \u001b[1;32mwhile\u001b[0m \u001b[0mlen\u001b[0m\u001b[1;33m(\u001b[0m\u001b[0mlotto\u001b[0m\u001b[1;33m)\u001b[0m\u001b[1;33m<\u001b[0m \u001b[1;36m6\u001b[0m\u001b[1;33m:\u001b[0m\u001b[1;33m\u001b[0m\u001b[1;33m\u001b[0m\u001b[0m\n\u001b[1;32m----> 5\u001b[1;33m     \u001b[0mv\u001b[0m \u001b[1;33m=\u001b[0m \u001b[0mrandom\u001b[0m\u001b[1;33m.\u001b[0m\u001b[0mchoice\u001b[0m\u001b[1;33m(\u001b[0m\u001b[0mpool\u001b[0m\u001b[1;33m)\u001b[0m\u001b[1;33m\u001b[0m\u001b[1;33m\u001b[0m\u001b[0m\n\u001b[0m\u001b[0;32m      6\u001b[0m     \u001b[1;32mif\u001b[0m \u001b[0mv\u001b[0m \u001b[1;32min\u001b[0m \u001b[0mlotto\u001b[0m\u001b[1;33m:\u001b[0m\u001b[1;33m\u001b[0m\u001b[1;33m\u001b[0m\u001b[0m\n\u001b[0;32m      7\u001b[0m         \u001b[0mlotto\u001b[0m\u001b[1;33m.\u001b[0m\u001b[0mappend\u001b[0m\u001b[1;33m(\u001b[0m\u001b[0mv\u001b[0m\u001b[1;33m)\u001b[0m\u001b[1;33m\u001b[0m\u001b[1;33m\u001b[0m\u001b[0m\n",
      "\u001b[1;32m~\\anaconda3\\lib\\random.py\u001b[0m in \u001b[0;36mchoice\u001b[1;34m(self, seq)\u001b[0m\n\u001b[0;32m    257\u001b[0m         \u001b[1;34m\"\"\"Choose a random element from a non-empty sequence.\"\"\"\u001b[0m\u001b[1;33m\u001b[0m\u001b[1;33m\u001b[0m\u001b[0m\n\u001b[0;32m    258\u001b[0m         \u001b[1;32mtry\u001b[0m\u001b[1;33m:\u001b[0m\u001b[1;33m\u001b[0m\u001b[1;33m\u001b[0m\u001b[0m\n\u001b[1;32m--> 259\u001b[1;33m             \u001b[0mi\u001b[0m \u001b[1;33m=\u001b[0m \u001b[0mself\u001b[0m\u001b[1;33m.\u001b[0m\u001b[0m_randbelow\u001b[0m\u001b[1;33m(\u001b[0m\u001b[0mlen\u001b[0m\u001b[1;33m(\u001b[0m\u001b[0mseq\u001b[0m\u001b[1;33m)\u001b[0m\u001b[1;33m)\u001b[0m\u001b[1;33m\u001b[0m\u001b[1;33m\u001b[0m\u001b[0m\n\u001b[0m\u001b[0;32m    260\u001b[0m         \u001b[1;32mexcept\u001b[0m \u001b[0mValueError\u001b[0m\u001b[1;33m:\u001b[0m\u001b[1;33m\u001b[0m\u001b[1;33m\u001b[0m\u001b[0m\n\u001b[0;32m    261\u001b[0m             \u001b[1;32mraise\u001b[0m \u001b[0mIndexError\u001b[0m\u001b[1;33m(\u001b[0m\u001b[1;34m'Cannot choose from an empty sequence'\u001b[0m\u001b[1;33m)\u001b[0m \u001b[1;32mfrom\u001b[0m \u001b[1;32mNone\u001b[0m\u001b[1;33m\u001b[0m\u001b[1;33m\u001b[0m\u001b[0m\n",
      "\u001b[1;31mKeyboardInterrupt\u001b[0m: "
     ]
    }
   ],
   "source": [
    "import random\n",
    "lotto = []\n",
    "pool = list(range(1, 46))\n",
    "while len(lotto)< 6:\n",
    "    v = random.choice(pool)\n",
    "    if v in lotto:\n",
    "        lotto.append(v)\n",
    "    \n",
    "print(*lotto)"
   ]
  },
  {
   "cell_type": "code",
   "execution_count": 7,
   "metadata": {},
   "outputs": [
    {
     "name": "stdout",
     "output_type": "stream",
     "text": [
      "2 16 32 36 43 30\n"
     ]
    }
   ],
   "source": [
    "import random\n",
    "\n",
    "pool = list(range(1, 46))\n",
    "lotto = random.sample(pool,6)  \n",
    "print(*lotto)"
   ]
  },
  {
   "cell_type": "code",
   "execution_count": 8,
   "metadata": {},
   "outputs": [
    {
     "name": "stdout",
     "output_type": "stream",
     "text": [
      "[0, 1, 2, 3, 4, 5, 6, 7, 8, 9, 10, 11, 12, 13, 14, 15, 16, 17, 18, 19]\n"
     ]
    }
   ],
   "source": [
    "li = []\n",
    "for i in range(20):\n",
    "    li.append(i)\n",
    "print(li)"
   ]
  },
  {
   "cell_type": "code",
   "execution_count": 10,
   "metadata": {},
   "outputs": [
    {
     "name": "stdout",
     "output_type": "stream",
     "text": [
      "[0, 1, 2, 3, 4, 5, 6, 7, 8, 9, 10, 11, 12, 13, 14, 15, 16, 17, 18, 19]\n"
     ]
    }
   ],
   "source": [
    "li2 = list(range(20))\n",
    "print(li2)"
   ]
  },
  {
   "cell_type": "code",
   "execution_count": 11,
   "metadata": {},
   "outputs": [
    {
     "name": "stdout",
     "output_type": "stream",
     "text": [
      "[0, 1, 2, 3, 4, 5, 6, 7, 8, 9, 10, 11, 12, 13, 14, 15, 16, 17, 18, 19]\n"
     ]
    }
   ],
   "source": [
    "li3 = [i for i in range(20)]\n",
    "print(li3)"
   ]
  },
  {
   "cell_type": "code",
   "execution_count": 12,
   "metadata": {},
   "outputs": [
    {
     "name": "stdout",
     "output_type": "stream",
     "text": [
      "[0, 2, 4, 6, 8, 10, 12, 14, 16, 18]\n"
     ]
    }
   ],
   "source": [
    "li3 = [i for i in range(20) if i%2==0]\n",
    "print(li3)"
   ]
  },
  {
   "cell_type": "code",
   "execution_count": 13,
   "metadata": {},
   "outputs": [
    {
     "name": "stdout",
     "output_type": "stream",
     "text": [
      "[0, -1, 2, -3, 4, -5, 6, -7, 8, -9, 10, -11, 12, -13, 14, -15, 16, -17, 18, -19]\n"
     ]
    }
   ],
   "source": [
    "li3 = [i if i%2==0 else -i for i in range(20)]\n",
    "print(li3)"
   ]
  },
  {
   "cell_type": "code",
   "execution_count": 16,
   "metadata": {},
   "outputs": [
    {
     "name": "stdout",
     "output_type": "stream",
     "text": [
      "0 1 1 1 0 0 1 0 1 1 1 1 0 0 0 1 0 0 0 1\n"
     ]
    }
   ],
   "source": [
    "import random\n",
    "li = []\n",
    "prob = 0.7\n",
    "for _ in range(20):\n",
    "    if random.random()<prob:\n",
    "        li.append(1)\n",
    "    else:\n",
    "        li.append(0)\n",
    "print(*li)"
   ]
  },
  {
   "cell_type": "code",
   "execution_count": 17,
   "metadata": {},
   "outputs": [
    {
     "name": "stdout",
     "output_type": "stream",
     "text": [
      "1 1 1 1 1 0 0 1 1 0 1 1 0 1 0 1 1 1 1 1\n"
     ]
    }
   ],
   "source": [
    "import random\n",
    "prob = 0.7\n",
    "li = [1 if random.random()<prob else 0 for _ in range(20)] \n",
    "print(*li)"
   ]
  },
  {
   "cell_type": "markdown",
   "metadata": {},
   "source": [
    "# 예제 - 리스트7"
   ]
  },
  {
   "cell_type": "code",
   "execution_count": 19,
   "metadata": {},
   "outputs": [
    {
     "name": "stdout",
     "output_type": "stream",
     "text": [
      "1 1 1 1 1 1 1 1 1 1 0 1 1 1 1 1 1 1 1 1\n",
      "[10, 9]\n",
      "10\n"
     ]
    }
   ],
   "source": [
    "import random\n",
    "li = []\n",
    "prob = 0.9\n",
    "for _ in range(20):\n",
    "    if random.random()<prob:\n",
    "        li.append(1)\n",
    "    else:\n",
    "        li.append(0)\n",
    "print(*li)\n",
    "\n",
    "a=[]\n",
    "size = 0\n",
    "for v in li:\n",
    "    if v==1:\n",
    "        size+=1\n",
    "    else:\n",
    "        if size!=0:\n",
    "            a.append(size)\n",
    "            size=0\n",
    "if size!=0:\n",
    "    a.append(size)\n",
    "print(a)\n",
    "print(max(a))"
   ]
  },
  {
   "cell_type": "markdown",
   "metadata": {},
   "source": [
    "# 리스트 보충"
   ]
  },
  {
   "cell_type": "code",
   "execution_count": 22,
   "metadata": {},
   "outputs": [
    {
     "name": "stdout",
     "output_type": "stream",
     "text": [
      "[4, 5, [1, 2, 3]]\n",
      "[1, 2, 3]\n"
     ]
    }
   ],
   "source": [
    "a = [1,2,3]\n",
    "b = [4,5]\n",
    "b.append(a)\n",
    "print(b)\n",
    "print(b[2])"
   ]
  },
  {
   "cell_type": "markdown",
   "metadata": {},
   "source": [
    "# 예제 - 숫자 예측 게임"
   ]
  },
  {
   "cell_type": "code",
   "execution_count": null,
   "metadata": {},
   "outputs": [],
   "source": []
  },
  {
   "cell_type": "markdown",
   "metadata": {},
   "source": [
    "# 예제 - 숫자 야구 게임"
   ]
  },
  {
   "cell_type": "code",
   "execution_count": null,
   "metadata": {},
   "outputs": [],
   "source": []
  },
  {
   "cell_type": "markdown",
   "metadata": {},
   "source": [
    "# 예제 - percolation"
   ]
  },
  {
   "cell_type": "code",
   "execution_count": null,
   "metadata": {},
   "outputs": [],
   "source": []
  }
 ],
 "metadata": {
  "kernelspec": {
   "display_name": "Python 3",
   "language": "python",
   "name": "python3"
  },
  "language_info": {
   "codemirror_mode": {
    "name": "ipython",
    "version": 3
   },
   "file_extension": ".py",
   "mimetype": "text/x-python",
   "name": "python",
   "nbconvert_exporter": "python",
   "pygments_lexer": "ipython3",
   "version": "3.7.6"
  }
 },
 "nbformat": 4,
 "nbformat_minor": 4
}
